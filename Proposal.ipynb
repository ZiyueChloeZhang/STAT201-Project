{
 "cells": [
  {
   "cell_type": "markdown",
   "id": "07e84d67-f469-4771-b3d6-84220d2325bb",
   "metadata": {},
   "source": [
    "# Title"
   ]
  },
  {
   "cell_type": "markdown",
   "id": "98194414-5333-498b-a5fb-24409409967c",
   "metadata": {},
   "source": [
    "## Introduction"
   ]
  },
  {
   "cell_type": "markdown",
   "id": "287bc866-dd59-4f05-bbc1-a513b917ed0e",
   "metadata": {},
   "source": [
    "1. background on the topic\n",
    "2. **state the question you will try to answer**\n",
    "    - one or more random variables\n",
    "    - spread across two or more categories that are interesting to compare\n",
    "    - of the response variable, identify one location parameter (mean, median, quantile, etc.) and one scale parameter (standard deviation, inter-quartile range, etc.) that would be useful in answering your question. \n",
    "3. Identify and describe the dataset that will be used to answer the question. \n",
    "4. at least two scientific publications"
   ]
  },
  {
   "cell_type": "markdown",
   "id": "e836f512-6987-4680-b8c5-ac7280ff8ed7",
   "metadata": {},
   "source": [
    "## Preliminary Results"
   ]
  },
  {
   "cell_type": "markdown",
   "id": "f072d681-ae70-4af1-b699-50b916502d65",
   "metadata": {},
   "source": [
    "- Demonstrate that the dataset can be read from the web into R.\n",
    "- Clean and wrangle your data into a tidy format.\n",
    "- Plot the relevant raw data, tailoring your plot in a way that addresses your question.\n",
    "- Compute estimates of the parameter you identified across your groups. \n",
    "- Present this in a table. If relevant, include these estimates in your plot."
   ]
  },
  {
   "cell_type": "code",
   "execution_count": 2,
   "id": "2ca640df-d9ab-45eb-b2c3-b8211776708b",
   "metadata": {},
   "outputs": [
    {
     "ename": "NameError",
     "evalue": "name 'library' is not defined",
     "output_type": "error",
     "traceback": [
      "\u001b[0;31m---------------------------------------------------------------------------\u001b[0m",
      "\u001b[0;31mNameError\u001b[0m                                 Traceback (most recent call last)",
      "\u001b[1;32m/Users/tiannelee/Desktop/STAT201-Project/Proposal.ipynb Cell 6'\u001b[0m in \u001b[0;36m<cell line: 1>\u001b[0;34m()\u001b[0m\n\u001b[0;32m----> <a href='vscode-notebook-cell:/Users/tiannelee/Desktop/STAT201-Project/Proposal.ipynb#ch0000005?line=0'>1</a>\u001b[0m library(tidyverse)\n",
      "\u001b[0;31mNameError\u001b[0m: name 'library' is not defined"
     ]
    }
   ],
   "source": [
    "library(tidyverse)"
   ]
  },
  {
   "cell_type": "code",
   "execution_count": 3,
   "id": "e64f8ec1-f00f-48f7-86a7-0480d0cf3e6a",
   "metadata": {},
   "outputs": [
    {
     "ename": "NameError",
     "evalue": "name 'raw_leaf' is not defined",
     "output_type": "error",
     "traceback": [
      "\u001b[0;31m---------------------------------------------------------------------------\u001b[0m",
      "\u001b[0;31mNameError\u001b[0m                                 Traceback (most recent call last)",
      "\u001b[1;32m/Users/tiannelee/Desktop/STAT201-Project/Proposal.ipynb Cell 7'\u001b[0m in \u001b[0;36m<cell line: 1>\u001b[0;34m()\u001b[0m\n\u001b[0;32m----> <a href='vscode-notebook-cell:/Users/tiannelee/Desktop/STAT201-Project/Proposal.ipynb#ch0000006?line=0'>1</a>\u001b[0m raw_leaf \u001b[39m<\u001b[39m\u001b[39m-\u001b[39m read_csv(\u001b[39m\"\u001b[39m\u001b[39mdata/leaf.csv\u001b[39m\u001b[39m\"\u001b[39m, show_col_types \u001b[39m=\u001b[39m FALSE, col_names \u001b[39m=\u001b[39m c(\n\u001b[1;32m      <a href='vscode-notebook-cell:/Users/tiannelee/Desktop/STAT201-Project/Proposal.ipynb#ch0000006?line=1'>2</a>\u001b[0m     \u001b[39m\"\u001b[39m\u001b[39mClass\u001b[39m\u001b[39m\"\u001b[39m, \u001b[39m\"\u001b[39m\u001b[39mSpecimen_Number\u001b[39m\u001b[39m\"\u001b[39m, \u001b[39m\"\u001b[39m\u001b[39mEccentricity\u001b[39m\u001b[39m\"\u001b[39m, \u001b[39m\"\u001b[39m\u001b[39mAspect_Ratio\u001b[39m\u001b[39m\"\u001b[39m, \n\u001b[1;32m      <a href='vscode-notebook-cell:/Users/tiannelee/Desktop/STAT201-Project/Proposal.ipynb#ch0000006?line=2'>3</a>\u001b[0m     \u001b[39m\"\u001b[39m\u001b[39mElongation\u001b[39m\u001b[39m\"\u001b[39m,\u001b[39m\"\u001b[39m\u001b[39mSolidity\u001b[39m\u001b[39m\"\u001b[39m, \u001b[39m\"\u001b[39m\u001b[39mStochastic_Convexity\u001b[39m\u001b[39m\"\u001b[39m,\u001b[39m\"\u001b[39m\u001b[39mIsoperimetric_Factor\u001b[39m\u001b[39m\"\u001b[39m,\n\u001b[1;32m      <a href='vscode-notebook-cell:/Users/tiannelee/Desktop/STAT201-Project/Proposal.ipynb#ch0000006?line=3'>4</a>\u001b[0m     \u001b[39m\"\u001b[39m\u001b[39mMaximal_Indentation_Depth\u001b[39m\u001b[39m\"\u001b[39m, \u001b[39m\"\u001b[39m\u001b[39mLobedness\u001b[39m\u001b[39m\"\u001b[39m, \u001b[39m\"\u001b[39m\u001b[39mAverage_Intensity\u001b[39m\u001b[39m\"\u001b[39m, \u001b[39m\"\u001b[39m\u001b[39mAverage_Contrast\u001b[39m\u001b[39m\"\u001b[39m,\n\u001b[1;32m      <a href='vscode-notebook-cell:/Users/tiannelee/Desktop/STAT201-Project/Proposal.ipynb#ch0000006?line=4'>5</a>\u001b[0m     \u001b[39m\"\u001b[39m\u001b[39mSmoothness\u001b[39m\u001b[39m\"\u001b[39m, \u001b[39m\"\u001b[39m\u001b[39mThird_moment\u001b[39m\u001b[39m\"\u001b[39m, \u001b[39m\"\u001b[39m\u001b[39mUniformity\u001b[39m\u001b[39m\"\u001b[39m, \u001b[39m\"\u001b[39m\u001b[39mEntropy\u001b[39m\u001b[39m\"\u001b[39m))\n\u001b[1;32m      <a href='vscode-notebook-cell:/Users/tiannelee/Desktop/STAT201-Project/Proposal.ipynb#ch0000006?line=5'>6</a>\u001b[0m head(raw_leaf)\n",
      "\u001b[0;31mNameError\u001b[0m: name 'raw_leaf' is not defined"
     ]
    }
   ],
   "source": [
    "raw_leaf <- read_csv(\"data/leaf.csv\", show_col_types = FALSE, col_names = c(\n",
    "    \"Class\", \"Specimen_Number\", \"Eccentricity\", \"Aspect_Ratio\", \n",
    "    \"Elongation\",\"Solidity\", \"Stochastic_Convexity\",\"Isoperimetric_Factor\",\n",
    "    \"Maximal_Indentation_Depth\", \"Lobedness\", \"Average_Intensity\", \"Average_Contrast\",\n",
    "    \"Smoothness\", \"Third_moment\", \"Uniformity\", \"Entropy\"))\n",
    "head(raw_leaf)"
   ]
  },
  {
   "cell_type": "markdown",
   "id": "9b3c36bc-2caf-44f7-a3eb-a0dc80909d49",
   "metadata": {},
   "source": [
    "## Methods: Plan"
   ]
  },
  {
   "cell_type": "markdown",
   "id": "710ca852-bf08-474a-a25c-456866f0c3e9",
   "metadata": {},
   "source": [
    "## References"
   ]
  }
 ],
 "metadata": {
  "interpreter": {
   "hash": "767d51c1340bd893661ea55ea3124f6de3c7a262a8b4abca0554b478b1e2ff90"
  },
  "kernelspec": {
   "display_name": "R",
   "language": "python",
   "name": "python3"
  },
  "language_info": {
   "codemirror_mode": {
    "name": "ipython",
    "version": 3
   },
   "file_extension": ".py",
   "mimetype": "text/x-python",
   "name": "python",
   "nbconvert_exporter": "python",
   "pygments_lexer": "ipython3",
   "version": "3.10.2"
  }
 },
 "nbformat": 4,
 "nbformat_minor": 5
}
