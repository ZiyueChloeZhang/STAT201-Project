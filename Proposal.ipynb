{
 "cells": [
  {
   "cell_type": "markdown",
   "id": "07e84d67-f469-4771-b3d6-84220d2325bb",
   "metadata": {},
   "source": [
    "# Title"
   ]
  },
  {
   "cell_type": "markdown",
   "id": "98194414-5333-498b-a5fb-24409409967c",
   "metadata": {},
   "source": [
    "## Introduction"
   ]
  },
  {
   "cell_type": "markdown",
   "id": "287bc866-dd59-4f05-bbc1-a513b917ed0e",
   "metadata": {},
   "source": [
    "1. background on the topic\n",
    "2. **state the question you will try to answer**\n",
    "    - one or more random variables\n",
    "    - spread across two or more categories that are interesting to compare\n",
    "    - of the response variable, identify one location parameter (mean, median, quantile, etc.) and one scale parameter (standard deviation, inter-quartile range, etc.) that would be useful in answering your question. \n",
    "3. Identify and describe the dataset that will be used to answer the question. \n",
    "4. at least two scientific publications"
   ]
  },
  {
   "cell_type": "markdown",
   "id": "e836f512-6987-4680-b8c5-ac7280ff8ed7",
   "metadata": {},
   "source": [
    "## Preliminary Results"
   ]
  },
  {
   "cell_type": "markdown",
   "id": "f072d681-ae70-4af1-b699-50b916502d65",
   "metadata": {},
   "source": [
    "- Demonstrate that the dataset can be read from the web into R.\n",
    "- Clean and wrangle your data into a tidy format.\n",
    "- Plot the relevant raw data, tailoring your plot in a way that addresses your question.\n",
    "- Compute estimates of the parameter you identified across your groups. \n",
    "- Present this in a table. If relevant, include these estimates in your plot."
   ]
  },
  {
   "cell_type": "code",
   "execution_count": 3,
   "id": "2ca640df-d9ab-45eb-b2c3-b8211776708b",
   "metadata": {},
   "outputs": [
    {
     "name": "stderr",
     "output_type": "stream",
     "text": [
      "── \u001b[1mAttaching packages\u001b[22m ─────────────────────────────────────── tidyverse 1.3.1 ──\n",
      "\n",
      "\u001b[32m✔\u001b[39m \u001b[34mggplot2\u001b[39m 3.3.5     \u001b[32m✔\u001b[39m \u001b[34mpurrr  \u001b[39m 0.3.4\n",
      "\u001b[32m✔\u001b[39m \u001b[34mtibble \u001b[39m 3.1.6     \u001b[32m✔\u001b[39m \u001b[34mdplyr  \u001b[39m 1.0.7\n",
      "\u001b[32m✔\u001b[39m \u001b[34mtidyr  \u001b[39m 1.1.4     \u001b[32m✔\u001b[39m \u001b[34mstringr\u001b[39m 1.4.0\n",
      "\u001b[32m✔\u001b[39m \u001b[34mreadr  \u001b[39m 2.1.1     \u001b[32m✔\u001b[39m \u001b[34mforcats\u001b[39m 0.5.1\n",
      "\n",
      "── \u001b[1mConflicts\u001b[22m ────────────────────────────────────────── tidyverse_conflicts() ──\n",
      "\u001b[31m✖\u001b[39m \u001b[34mdplyr\u001b[39m::\u001b[32mfilter()\u001b[39m masks \u001b[34mstats\u001b[39m::filter()\n",
      "\u001b[31m✖\u001b[39m \u001b[34mdplyr\u001b[39m::\u001b[32mlag()\u001b[39m    masks \u001b[34mstats\u001b[39m::lag()\n",
      "\n"
     ]
    }
   ],
   "source": [
    "library(tidyverse)"
   ]
  },
  {
   "cell_type": "code",
   "execution_count": 12,
   "id": "e64f8ec1-f00f-48f7-86a7-0480d0cf3e6a",
   "metadata": {},
   "outputs": [
    {
     "data": {
      "text/html": [
       "<table class=\"dataframe\">\n",
       "<caption>A tibble: 6 × 16</caption>\n",
       "<thead>\n",
       "\t<tr><th scope=col>Class</th><th scope=col>Specimen_Number</th><th scope=col>Eccentricity</th><th scope=col>Aspect_Ratio</th><th scope=col>Elongation</th><th scope=col>Solidity</th><th scope=col>Stochastic_Convexity</th><th scope=col>Isoperimetric_Factor</th><th scope=col>Maximal_Indentation_Depth</th><th scope=col>Lobedness</th><th scope=col>Average_Intensity</th><th scope=col>Average_Contrast</th><th scope=col>Smoothness</th><th scope=col>Third_moment</th><th scope=col>Uniformity</th><th scope=col>Entropy</th></tr>\n",
       "\t<tr><th scope=col>&lt;dbl&gt;</th><th scope=col>&lt;dbl&gt;</th><th scope=col>&lt;dbl&gt;</th><th scope=col>&lt;dbl&gt;</th><th scope=col>&lt;dbl&gt;</th><th scope=col>&lt;dbl&gt;</th><th scope=col>&lt;dbl&gt;</th><th scope=col>&lt;dbl&gt;</th><th scope=col>&lt;dbl&gt;</th><th scope=col>&lt;dbl&gt;</th><th scope=col>&lt;dbl&gt;</th><th scope=col>&lt;dbl&gt;</th><th scope=col>&lt;dbl&gt;</th><th scope=col>&lt;dbl&gt;</th><th scope=col>&lt;dbl&gt;</th><th scope=col>&lt;dbl&gt;</th></tr>\n",
       "</thead>\n",
       "<tbody>\n",
       "\t<tr><td>1</td><td>1</td><td>0.72694</td><td>1.4742</td><td>0.32396</td><td>0.98535</td><td>1.00000</td><td>0.83592</td><td>0.0046566</td><td>0.0039465</td><td>0.0477900</td><td>0.127950</td><td>0.0161080</td><td>0.00523230</td><td>2.7477e-04</td><td>1.17560</td></tr>\n",
       "\t<tr><td>1</td><td>2</td><td>0.74173</td><td>1.5257</td><td>0.36116</td><td>0.98152</td><td>0.99825</td><td>0.79867</td><td>0.0052423</td><td>0.0050016</td><td>0.0241600</td><td>0.090476</td><td>0.0081195</td><td>0.00270800</td><td>7.4846e-05</td><td>0.69659</td></tr>\n",
       "\t<tr><td>1</td><td>3</td><td>0.76722</td><td>1.5725</td><td>0.38998</td><td>0.97755</td><td>1.00000</td><td>0.80812</td><td>0.0074573</td><td>0.0101210</td><td>0.0118970</td><td>0.057445</td><td>0.0032891</td><td>0.00092068</td><td>3.7886e-05</td><td>0.44348</td></tr>\n",
       "\t<tr><td>1</td><td>4</td><td>0.73797</td><td>1.4597</td><td>0.35376</td><td>0.97566</td><td>1.00000</td><td>0.81697</td><td>0.0068768</td><td>0.0086068</td><td>0.0159500</td><td>0.065491</td><td>0.0042707</td><td>0.00115440</td><td>6.6272e-05</td><td>0.58785</td></tr>\n",
       "\t<tr><td>1</td><td>5</td><td>0.82301</td><td>1.7707</td><td>0.44462</td><td>0.97698</td><td>1.00000</td><td>0.75493</td><td>0.0074280</td><td>0.0100420</td><td>0.0079379</td><td>0.045339</td><td>0.0020514</td><td>0.00055986</td><td>2.3504e-05</td><td>0.34214</td></tr>\n",
       "\t<tr><td>1</td><td>6</td><td>0.72997</td><td>1.4892</td><td>0.34284</td><td>0.98755</td><td>1.00000</td><td>0.84482</td><td>0.0049451</td><td>0.0044506</td><td>0.0104870</td><td>0.058528</td><td>0.0034138</td><td>0.00112480</td><td>2.4798e-05</td><td>0.34068</td></tr>\n",
       "</tbody>\n",
       "</table>\n"
      ],
      "text/latex": [
       "A tibble: 6 × 16\n",
       "\\begin{tabular}{llllllllllllllll}\n",
       " Class & Specimen\\_Number & Eccentricity & Aspect\\_Ratio & Elongation & Solidity & Stochastic\\_Convexity & Isoperimetric\\_Factor & Maximal\\_Indentation\\_Depth & Lobedness & Average\\_Intensity & Average\\_Contrast & Smoothness & Third\\_moment & Uniformity & Entropy\\\\\n",
       " <dbl> & <dbl> & <dbl> & <dbl> & <dbl> & <dbl> & <dbl> & <dbl> & <dbl> & <dbl> & <dbl> & <dbl> & <dbl> & <dbl> & <dbl> & <dbl>\\\\\n",
       "\\hline\n",
       "\t 1 & 1 & 0.72694 & 1.4742 & 0.32396 & 0.98535 & 1.00000 & 0.83592 & 0.0046566 & 0.0039465 & 0.0477900 & 0.127950 & 0.0161080 & 0.00523230 & 2.7477e-04 & 1.17560\\\\\n",
       "\t 1 & 2 & 0.74173 & 1.5257 & 0.36116 & 0.98152 & 0.99825 & 0.79867 & 0.0052423 & 0.0050016 & 0.0241600 & 0.090476 & 0.0081195 & 0.00270800 & 7.4846e-05 & 0.69659\\\\\n",
       "\t 1 & 3 & 0.76722 & 1.5725 & 0.38998 & 0.97755 & 1.00000 & 0.80812 & 0.0074573 & 0.0101210 & 0.0118970 & 0.057445 & 0.0032891 & 0.00092068 & 3.7886e-05 & 0.44348\\\\\n",
       "\t 1 & 4 & 0.73797 & 1.4597 & 0.35376 & 0.97566 & 1.00000 & 0.81697 & 0.0068768 & 0.0086068 & 0.0159500 & 0.065491 & 0.0042707 & 0.00115440 & 6.6272e-05 & 0.58785\\\\\n",
       "\t 1 & 5 & 0.82301 & 1.7707 & 0.44462 & 0.97698 & 1.00000 & 0.75493 & 0.0074280 & 0.0100420 & 0.0079379 & 0.045339 & 0.0020514 & 0.00055986 & 2.3504e-05 & 0.34214\\\\\n",
       "\t 1 & 6 & 0.72997 & 1.4892 & 0.34284 & 0.98755 & 1.00000 & 0.84482 & 0.0049451 & 0.0044506 & 0.0104870 & 0.058528 & 0.0034138 & 0.00112480 & 2.4798e-05 & 0.34068\\\\\n",
       "\\end{tabular}\n"
      ],
      "text/markdown": [
       "\n",
       "A tibble: 6 × 16\n",
       "\n",
       "| Class &lt;dbl&gt; | Specimen_Number &lt;dbl&gt; | Eccentricity &lt;dbl&gt; | Aspect_Ratio &lt;dbl&gt; | Elongation &lt;dbl&gt; | Solidity &lt;dbl&gt; | Stochastic_Convexity &lt;dbl&gt; | Isoperimetric_Factor &lt;dbl&gt; | Maximal_Indentation_Depth &lt;dbl&gt; | Lobedness &lt;dbl&gt; | Average_Intensity &lt;dbl&gt; | Average_Contrast &lt;dbl&gt; | Smoothness &lt;dbl&gt; | Third_moment &lt;dbl&gt; | Uniformity &lt;dbl&gt; | Entropy &lt;dbl&gt; |\n",
       "|---|---|---|---|---|---|---|---|---|---|---|---|---|---|---|---|\n",
       "| 1 | 1 | 0.72694 | 1.4742 | 0.32396 | 0.98535 | 1.00000 | 0.83592 | 0.0046566 | 0.0039465 | 0.0477900 | 0.127950 | 0.0161080 | 0.00523230 | 2.7477e-04 | 1.17560 |\n",
       "| 1 | 2 | 0.74173 | 1.5257 | 0.36116 | 0.98152 | 0.99825 | 0.79867 | 0.0052423 | 0.0050016 | 0.0241600 | 0.090476 | 0.0081195 | 0.00270800 | 7.4846e-05 | 0.69659 |\n",
       "| 1 | 3 | 0.76722 | 1.5725 | 0.38998 | 0.97755 | 1.00000 | 0.80812 | 0.0074573 | 0.0101210 | 0.0118970 | 0.057445 | 0.0032891 | 0.00092068 | 3.7886e-05 | 0.44348 |\n",
       "| 1 | 4 | 0.73797 | 1.4597 | 0.35376 | 0.97566 | 1.00000 | 0.81697 | 0.0068768 | 0.0086068 | 0.0159500 | 0.065491 | 0.0042707 | 0.00115440 | 6.6272e-05 | 0.58785 |\n",
       "| 1 | 5 | 0.82301 | 1.7707 | 0.44462 | 0.97698 | 1.00000 | 0.75493 | 0.0074280 | 0.0100420 | 0.0079379 | 0.045339 | 0.0020514 | 0.00055986 | 2.3504e-05 | 0.34214 |\n",
       "| 1 | 6 | 0.72997 | 1.4892 | 0.34284 | 0.98755 | 1.00000 | 0.84482 | 0.0049451 | 0.0044506 | 0.0104870 | 0.058528 | 0.0034138 | 0.00112480 | 2.4798e-05 | 0.34068 |\n",
       "\n"
      ],
      "text/plain": [
       "  Class Specimen_Number Eccentricity Aspect_Ratio Elongation Solidity\n",
       "1 1     1               0.72694      1.4742       0.32396    0.98535 \n",
       "2 1     2               0.74173      1.5257       0.36116    0.98152 \n",
       "3 1     3               0.76722      1.5725       0.38998    0.97755 \n",
       "4 1     4               0.73797      1.4597       0.35376    0.97566 \n",
       "5 1     5               0.82301      1.7707       0.44462    0.97698 \n",
       "6 1     6               0.72997      1.4892       0.34284    0.98755 \n",
       "  Stochastic_Convexity Isoperimetric_Factor Maximal_Indentation_Depth Lobedness\n",
       "1 1.00000              0.83592              0.0046566                 0.0039465\n",
       "2 0.99825              0.79867              0.0052423                 0.0050016\n",
       "3 1.00000              0.80812              0.0074573                 0.0101210\n",
       "4 1.00000              0.81697              0.0068768                 0.0086068\n",
       "5 1.00000              0.75493              0.0074280                 0.0100420\n",
       "6 1.00000              0.84482              0.0049451                 0.0044506\n",
       "  Average_Intensity Average_Contrast Smoothness Third_moment Uniformity Entropy\n",
       "1 0.0477900         0.127950         0.0161080  0.00523230   2.7477e-04 1.17560\n",
       "2 0.0241600         0.090476         0.0081195  0.00270800   7.4846e-05 0.69659\n",
       "3 0.0118970         0.057445         0.0032891  0.00092068   3.7886e-05 0.44348\n",
       "4 0.0159500         0.065491         0.0042707  0.00115440   6.6272e-05 0.58785\n",
       "5 0.0079379         0.045339         0.0020514  0.00055986   2.3504e-05 0.34214\n",
       "6 0.0104870         0.058528         0.0034138  0.00112480   2.4798e-05 0.34068"
      ]
     },
     "metadata": {},
     "output_type": "display_data"
    }
   ],
   "source": [
    "raw_leaf <- read_csv(\"data/leaf.csv\", show_col_types = FALSE, col_names = c(\n",
    "    \"Class\", \"Specimen_Number\", \"Eccentricity\", \"Aspect_Ratio\", \n",
    "    \"Elongation\",\"Solidity\", \"Stochastic_Convexity\",\"Isoperimetric_Factor\",\n",
    "    \"Maximal_Indentation_Depth\", \"Lobedness\", \"Average_Intensity\", \"Average_Contrast\",\n",
    "    \"Smoothness\", \"Third_moment\", \"Uniformity\", \"Entropy\"))\n",
    "head(raw_leaf)"
   ]
  },
  {
   "cell_type": "markdown",
   "id": "9b3c36bc-2caf-44f7-a3eb-a0dc80909d49",
   "metadata": {},
   "source": [
    "## Methods: Plan"
   ]
  },
  {
   "cell_type": "markdown",
   "id": "710ca852-bf08-474a-a25c-456866f0c3e9",
   "metadata": {},
   "source": [
    "## References"
   ]
  },
  {
   "cell_type": "code",
   "execution_count": null,
   "id": "d697eb9d-1b43-4f0a-89e6-7f55449ad768",
   "metadata": {},
   "outputs": [],
   "source": []
  }
 ],
 "metadata": {
  "kernelspec": {
   "display_name": "R",
   "language": "R",
   "name": "ir"
  },
  "language_info": {
   "codemirror_mode": "r",
   "file_extension": ".r",
   "mimetype": "text/x-r-source",
   "name": "R",
   "pygments_lexer": "r",
   "version": "4.1.2"
  }
 },
 "nbformat": 4,
 "nbformat_minor": 5
}
