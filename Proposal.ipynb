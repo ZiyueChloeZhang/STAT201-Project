{
 "cells": [
  {
   "cell_type": "markdown",
   "id": "07e84d67-f469-4771-b3d6-84220d2325bb",
   "metadata": {},
   "source": [
    "# Title"
   ]
  },
  {
   "cell_type": "markdown",
   "id": "98194414-5333-498b-a5fb-24409409967c",
   "metadata": {},
   "source": [
    "## Introduction"
   ]
  },
  {
   "cell_type": "markdown",
   "id": "287bc866-dd59-4f05-bbc1-a513b917ed0e",
   "metadata": {},
   "source": [
    "1. background on the topic\n",
    "2. **state the question you will try to answer**\n",
    "    - one or more random variables\n",
    "    - spread across two or more categories that are interesting to compare\n",
    "    - of the response variable, identify one location parameter (mean, median, quantile, etc.) and one scale parameter (standard deviation, inter-quartile range, etc.) that would be useful in answering your question. \n",
    "3. Identify and describe the dataset that will be used to answer the question. \n",
    "4. at least two scientific publications"
   ]
  },
  {
   "cell_type": "markdown",
   "id": "e836f512-6987-4680-b8c5-ac7280ff8ed7",
   "metadata": {},
   "source": [
    "## Preliminary Results"
   ]
  },
  {
   "cell_type": "markdown",
   "id": "f072d681-ae70-4af1-b699-50b916502d65",
   "metadata": {},
   "source": [
    "- Demonstrate that the dataset can be read from the web into R.\n",
    "- Clean and wrangle your data into a tidy format.\n",
    "- Plot the relevant raw data, tailoring your plot in a way that addresses your question.\n",
    "- Compute estimates of the parameter you identified across your groups. \n",
    "- Present this in a table. If relevant, include these estimates in your plot."
   ]
  },
  {
   "cell_type": "code",
   "execution_count": 3,
   "id": "2ca640df-d9ab-45eb-b2c3-b8211776708b",
   "metadata": {},
   "outputs": [
    {
     "name": "stderr",
     "output_type": "stream",
     "text": [
      "── \u001b[1mAttaching packages\u001b[22m ─────────────────────────────────────── tidyverse 1.3.1 ──\n",
      "\n",
      "\u001b[32m✔\u001b[39m \u001b[34mggplot2\u001b[39m 3.3.5     \u001b[32m✔\u001b[39m \u001b[34mpurrr  \u001b[39m 0.3.4\n",
      "\u001b[32m✔\u001b[39m \u001b[34mtibble \u001b[39m 3.1.6     \u001b[32m✔\u001b[39m \u001b[34mdplyr  \u001b[39m 1.0.7\n",
      "\u001b[32m✔\u001b[39m \u001b[34mtidyr  \u001b[39m 1.1.4     \u001b[32m✔\u001b[39m \u001b[34mstringr\u001b[39m 1.4.0\n",
      "\u001b[32m✔\u001b[39m \u001b[34mreadr  \u001b[39m 2.1.1     \u001b[32m✔\u001b[39m \u001b[34mforcats\u001b[39m 0.5.1\n",
      "\n",
      "── \u001b[1mConflicts\u001b[22m ────────────────────────────────────────── tidyverse_conflicts() ──\n",
      "\u001b[31m✖\u001b[39m \u001b[34mdplyr\u001b[39m::\u001b[32mfilter()\u001b[39m masks \u001b[34mstats\u001b[39m::filter()\n",
      "\u001b[31m✖\u001b[39m \u001b[34mdplyr\u001b[39m::\u001b[32mlag()\u001b[39m    masks \u001b[34mstats\u001b[39m::lag()\n",
      "\n"
     ]
    }
   ],
   "source": [
    "library(tidyverse)"
   ]
  },
  {
   "cell_type": "code",
   "execution_count": 5,
   "id": "e64f8ec1-f00f-48f7-86a7-0480d0cf3e6a",
   "metadata": {},
   "outputs": [
    {
     "name": "stderr",
     "output_type": "stream",
     "text": [
      "New names:\n",
      "* `1` -> `1...1`\n",
      "* `1` -> `1...2`\n",
      "* `1` -> `1...7`\n",
      "\n",
      "\u001b[1mRows: \u001b[22m\u001b[34m339\u001b[39m \u001b[1mColumns: \u001b[22m\u001b[34m16\u001b[39m\n",
      "\n",
      "\u001b[36m──\u001b[39m \u001b[1mColumn specification\u001b[22m \u001b[36m────────────────────────────────────────────────────────\u001b[39m\n",
      "\u001b[1mDelimiter:\u001b[22m \",\"\n",
      "\u001b[32mdbl\u001b[39m (16): 1...1, 1...2, 0.72694, 1.4742, 0.32396, 0.98535, 1...7, 0.83592, 0...\n",
      "\n",
      "\n",
      "\u001b[36mℹ\u001b[39m Use \u001b[30m\u001b[47m\u001b[30m\u001b[47m`spec()`\u001b[47m\u001b[30m\u001b[49m\u001b[39m to retrieve the full column specification for this data.\n",
      "\u001b[36mℹ\u001b[39m Specify the column types or set \u001b[30m\u001b[47m\u001b[30m\u001b[47m`show_col_types = FALSE`\u001b[47m\u001b[30m\u001b[49m\u001b[39m to quiet this message.\n",
      "\n"
     ]
    },
    {
     "data": {
      "text/plain": [
       "cols(\n",
       "  `1...1` = \u001b[32mcol_double()\u001b[39m,\n",
       "  `1...2` = \u001b[32mcol_double()\u001b[39m,\n",
       "  `0.72694` = \u001b[32mcol_double()\u001b[39m,\n",
       "  `1.4742` = \u001b[32mcol_double()\u001b[39m,\n",
       "  `0.32396` = \u001b[32mcol_double()\u001b[39m,\n",
       "  `0.98535` = \u001b[32mcol_double()\u001b[39m,\n",
       "  `1...7` = \u001b[32mcol_double()\u001b[39m,\n",
       "  `0.83592` = \u001b[32mcol_double()\u001b[39m,\n",
       "  `0.0046566` = \u001b[32mcol_double()\u001b[39m,\n",
       "  `0.0039465` = \u001b[32mcol_double()\u001b[39m,\n",
       "  `0.04779` = \u001b[32mcol_double()\u001b[39m,\n",
       "  `0.12795` = \u001b[32mcol_double()\u001b[39m,\n",
       "  `0.016108` = \u001b[32mcol_double()\u001b[39m,\n",
       "  `0.0052323` = \u001b[32mcol_double()\u001b[39m,\n",
       "  `0.00027477` = \u001b[32mcol_double()\u001b[39m,\n",
       "  `1.1756` = \u001b[32mcol_double()\u001b[39m\n",
       ")"
      ]
     },
     "metadata": {},
     "output_type": "display_data"
    }
   ],
   "source": [
    "raw_leaf <- read_csv(\"data/leaf.csv\")\n",
    "spec(raw_leaf)"
   ]
  },
  {
   "cell_type": "markdown",
   "id": "9b3c36bc-2caf-44f7-a3eb-a0dc80909d49",
   "metadata": {},
   "source": [
    "## Methods: Plan"
   ]
  },
  {
   "cell_type": "markdown",
   "id": "710ca852-bf08-474a-a25c-456866f0c3e9",
   "metadata": {},
   "source": [
    "## References"
   ]
  },
  {
   "cell_type": "code",
   "execution_count": null,
   "id": "d697eb9d-1b43-4f0a-89e6-7f55449ad768",
   "metadata": {},
   "outputs": [],
   "source": []
  }
 ],
 "metadata": {
  "kernelspec": {
   "display_name": "R",
   "language": "R",
   "name": "ir"
  },
  "language_info": {
   "codemirror_mode": "r",
   "file_extension": ".r",
   "mimetype": "text/x-r-source",
   "name": "R",
   "pygments_lexer": "r",
   "version": "4.1.2"
  }
 },
 "nbformat": 4,
 "nbformat_minor": 5
}
