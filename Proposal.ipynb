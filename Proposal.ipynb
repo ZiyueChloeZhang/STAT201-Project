{
 "cells": [
  {
   "cell_type": "markdown",
   "id": "07e84d67-f469-4771-b3d6-84220d2325bb",
   "metadata": {},
   "source": [
    "# Project Proposal - Group 4"
   ]
  },
  {
   "cell_type": "markdown",
   "id": "acd659ec",
   "metadata": {},
   "source": [
    "By Tianne Lee, Steven Tsai, Chloe Zhang, Jinghan Xu"
   ]
  },
  {
   "cell_type": "markdown",
   "id": "98194414-5333-498b-a5fb-24409409967c",
   "metadata": {},
   "source": [
    "## 1. **Introduction**"
   ]
  },
  {
   "cell_type": "markdown",
   "id": "287bc866-dd59-4f05-bbc1-a513b917ed0e",
   "metadata": {},
   "source": [
    "From elliptical, flat leaves to spiky, needle shaped, plant leaves have evolved to distinct shapes and sizes to adapt the wide ranges of living conditions earth has to offer. However, some leaves still look similar despite coming from very different plant species. In our project, we are interested in comparing the leaves of two different plant species, *Betula pubescens* (class 9 in the dataset) and *Tilia tomentosa* (class 10 in the dataset).\n",
    "\n",
    "<p align=\"center\">\n",
    "<img src=\"data/leaf9_leaf10.png\" alt=\"image source: ReadMe.pdf\" width=\"40%\"/>\n",
    "<figcaption align = \"center\">Figure 1.1 - photo of leaves of Betula pubescens (left) and Tilia tomentosa (right)</figcaption>\n",
    "</p>"
   ]
  },
  {
   "cell_type": "markdown",
   "id": "41f0ccc0",
   "metadata": {},
   "source": [
    "In Figure 1.1, we can see that the two leaves share similar features. The goal of our study is to find out whether the mean smoothness<sup>[1](#myfootnote1)</sup> and solidity of Tilia tomentosa (class 10) is larger than Betula pubescens (class 9).\n",
    "\n",
    "We will use a leaf dataset retrived from the [UCI Machine Learning Respotory](https://archive.ics.uci.edu/ml/datasets/Leaf). This dataset contains 16 shape and texture features of 40 plant species. We will only focus on the Tilia tomentosa & Betula pubescens species, and solidity & smoothness features.\n",
    "\n",
    "<a name=\"myfootnote1\">1</a>: Smoothness ranges between 0 and 1, with the value increasing as roughness increases."
   ]
  },
  {
   "cell_type": "markdown",
   "id": "e836f512-6987-4680-b8c5-ac7280ff8ed7",
   "metadata": {},
   "source": [
    "## 2. **Methods and Results**"
   ]
  },
  {
   "cell_type": "code",
   "execution_count": null,
   "id": "2ca640df-d9ab-45eb-b2c3-b8211776708b",
   "metadata": {
    "vscode": {
     "languageId": "r"
    }
   },
   "outputs": [],
   "source": [
    "library(\"tidyverse\")\n",
    "library(\"dplyr\")\n",
    "library(\"broom\")\n",
    "library(\"infer\")"
   ]
  },
  {
   "cell_type": "markdown",
   "id": "6977c1e4-d134-468b-a52d-caedd919383b",
   "metadata": {},
   "source": [
    "### 2.1 Preliminary Results"
   ]
  },
  {
   "cell_type": "markdown",
   "id": "782d4e36-bf0b-411c-9e44-d1034cf67b60",
   "metadata": {},
   "source": [
    "Read dataset and add column names for readability:"
   ]
  },
  {
   "cell_type": "code",
   "execution_count": null,
   "id": "e64f8ec1-f00f-48f7-86a7-0480d0cf3e6a",
   "metadata": {
    "vscode": {
     "languageId": "r"
    }
   },
   "outputs": [],
   "source": [
    "raw_leaf <- read_csv(\"data/leaf.csv\", show_col_types = FALSE, col_names = c(\n",
    "    \"Class\", \"Specimen_Number\", \"Eccentricity\", \"Aspect_Ratio\",\n",
    "    \"Elongation\", \"Solidity\", \"Stochastic_Convexity\", \"Isoperimetric_Factor\",\n",
    "    \"Maximal_Indentation_Depth\", \"Lobedness\", \"Average_Intensity\", \"Average_Contrast\", # nolint\n",
    "    \"Smoothness\", \"Third_moment\", \"Uniformity\", \"Entropy\"))\n",
    "head(raw_leaf)"
   ]
  },
  {
   "cell_type": "markdown",
   "id": "0d3a6da7-83aa-4e24-aa91-9fbd9882279a",
   "metadata": {},
   "source": [
    "<figcaption align = \"center\">Table 2.1.1 - first 6 rows of the raw data set with readable column names</figcaption>\n",
    "</p>"
   ]
  },
  {
   "cell_type": "markdown",
   "id": "ff3b88f8-1f75-4b11-98c7-2fff5ee05825",
   "metadata": {},
   "source": [
    "Clean and wrangle the data set. Drop irrelevant columns and rows. Keep `Solidity` and `Smoothness` as the response variables and extract the rows of class 9 and class 10. The summary of the wrangled data set is presented in Table 2.1.2."
   ]
  },
  {
   "cell_type": "code",
   "execution_count": null,
   "id": "38cc8814-f6ce-48d7-98d6-35f04b3e4811",
   "metadata": {
    "vscode": {
     "languageId": "r"
    }
   },
   "outputs": [],
   "source": [
    "leaf <- raw_leaf %>% \n",
    "    mutate(Class = as.factor(Class)) %>% \n",
    "    select(Class, Solidity, Smoothness) %>% \n",
    "    filter(Class == 9 | Class == 10)\n",
    "summary(leaf)"
   ]
  },
  {
   "cell_type": "markdown",
   "id": "b6eda0ea-dcdf-4089-b51b-7fe1923c0231",
   "metadata": {},
   "source": [
    "<figcaption align = \"center\">Table 2.1.2 - Summary of the cleaned data set</figcaption>\n",
    "</p>"
   ]
  },
  {
   "cell_type": "markdown",
   "id": "d5bf9d5b-5759-4a68-94ec-291619b14f8e",
   "metadata": {},
   "source": [
    "Compute the mean and standard deviation of Solidity:"
   ]
  },
  {
   "cell_type": "code",
   "execution_count": null,
   "id": "0fc01d8a-a8a3-4cd2-bd19-c1e778837795",
   "metadata": {
    "vscode": {
     "languageId": "r"
    }
   },
   "outputs": [],
   "source": [
    "solidity_estimates <- leaf %>%\n",
    "    group_by(Class) %>%\n",
    "    summarise(\n",
    "        mean = mean(Solidity),\n",
    "        sd = sd(Solidity)\n",
    "    )\n",
    "solidity_estimates"
   ]
  },
  {
   "cell_type": "markdown",
   "id": "a1910655-6f9f-4bd8-a30e-fb8c8d97231c",
   "metadata": {},
   "source": [
    "<figcaption align = \"center\">Table 2.1.3 - Mean and standard deviation of Solidity for Class 9 and 10</figcaption>\n",
    "</p>"
   ]
  },
  {
   "cell_type": "markdown",
   "id": "a4725456-7c75-4ae7-a50f-8a5d8ef89e41",
   "metadata": {},
   "source": [
    "Compute the mean and standard deviation of Smoothness:"
   ]
  },
  {
   "cell_type": "code",
   "execution_count": null,
   "id": "ff35a92f-1ee0-432c-9b2d-35f1ca3777bf",
   "metadata": {
    "vscode": {
     "languageId": "r"
    }
   },
   "outputs": [],
   "source": [
    "smoothness_estimates <- leaf %>%\n",
    "    group_by(Class) %>%\n",
    "    summarise(\n",
    "        mean = mean(Smoothness),\n",
    "        sd = sd(Smoothness)\n",
    "    )\n",
    "smoothness_estimates"
   ]
  },
  {
   "cell_type": "markdown",
   "id": "3b490635-791f-47bb-bf28-535ba51ec3fa",
   "metadata": {},
   "source": [
    "<figcaption align = \"center\">Table 2.1.4 - Mean and standard deviation of Smoothness for Class 9 and 10</figcaption>\n",
    "</p>"
   ]
  },
  {
   "cell_type": "markdown",
   "id": "60829ea4-cd13-49b1-99af-93c31f4eae9d",
   "metadata": {},
   "source": [
    "Plot the distribution of solidity and smoothness of the two categories:"
   ]
  },
  {
   "cell_type": "code",
   "execution_count": null,
   "id": "1efc859e",
   "metadata": {
    "vscode": {
     "languageId": "r"
    }
   },
   "outputs": [],
   "source": [
    "solidity_dist <- leaf|> \n",
    "    ggplot(aes(x = Solidity, fill = Class)) +\n",
    "    geom_histogram(binwidth = 0.01, alpha = 0.4)+\n",
    "    ggtitle(\"Distribution of Solidity\")+\n",
    "    geom_vline(data = solidity_estimates, aes(xintercept = mean, color = Class))\n",
    "\n",
    "smoothness_dist <- leaf|> \n",
    "    ggplot(aes(x = Smoothness, fill = Class)) +\n",
    "    geom_histogram(binwidth = 0.01, alpha = 0.4)+\n",
    "    ggtitle(\"Distribution of Smoothness\")+\n",
    "    geom_vline(data = smoothness_estimates, aes(xintercept = mean, color = Class))"
   ]
  },
  {
   "cell_type": "code",
   "execution_count": null,
   "id": "2b8ab497-7447-4c41-b357-e65e407ccbc7",
   "metadata": {},
   "outputs": [],
   "source": [
    "solidity_dist"
   ]
  },
  {
   "cell_type": "markdown",
   "id": "de97d383-7791-4db3-ae72-74d3e143f117",
   "metadata": {},
   "source": [
    "<figcaption align = \"center\">Figure 2.1.1 - Sample distribution of Solidity for Class 9 and 10 </figcaption>\n",
    "</p>"
   ]
  },
  {
   "cell_type": "code",
   "execution_count": null,
   "id": "2efd53b1-bdda-4cc3-94d1-c6912504bf3f",
   "metadata": {},
   "outputs": [],
   "source": [
    "smoothness_dist"
   ]
  },
  {
   "cell_type": "markdown",
   "id": "d2b48b51-8e2e-46c0-bee1-dc97407fd20f",
   "metadata": {},
   "source": [
    "<figcaption align = \"center\">Figure 2.1.2 - Sample distribution of Smoothness for Class 9 and 10 </figcaption>\n",
    "</p>"
   ]
  },
  {
   "cell_type": "markdown",
   "id": "8d9dec38-1334-4a8d-89e2-ff287280b6da",
   "metadata": {},
   "source": [
    "### 2.2 Methods"
   ]
  },
  {
   "cell_type": "markdown",
   "id": "2e53a7ac-94c0-4896-8054-d70861e7ed4a",
   "metadata": {},
   "source": [
    "**Reservation for the plots and estimates**: The sample size of the 2 classes we are interested in are 14 and 13 respectively which are not large enough for us to find the specific numerical patterns and get a convincing result. The two variances of the data are large, resulting in less precise of the outcome.\n",
    "\n",
    "**Next, making some adjustments for our dataset**. To improve the precision of our findings with the limited observations, we are going to conduct an enhanced experimental analysis. By bootstrap sampling the original data (with sample size of 14 and 13 respectively and 500 repeats) & using the asymptotics method, we can improve the precision of our previous findings. \n",
    "\n",
    "Now, let's test our expected preliminary findings, tomentosa (class 10) is smoother and more solid than Betula pubescens (class 9). The **hypothesis** are as follow: (Set the significant level for all the hypothesis testing: 0.05, and we need to find 90% CI for each distribution)\n",
    "-  $H_{10}$: the mean solidity of Tilia tomentosa (class 10) is same as Betula pubescens (class 9).\n",
    "-  $H_{1A}$: the mean solidity of Tilia tomentosa (class 10) is greater Betula pubescens (class 9).\n",
    "\n",
    "-  $H_{20}$: the mean smoothness of Tilia tomentosa (class 10) is same as Betula pubescens (class 9).\n",
    "-  $H_{2A}$: the mean smoothness of Tilia tomentosa (class 10) is greater Betula pubescens (class 9).\n",
    "\n"
   ]
  },
  {
   "cell_type": "markdown",
   "id": "230b36c8-1ad2-4104-82de-560d6a36779b",
   "metadata": {},
   "source": [
    "# Describe in written English the methods you used to perform your analysis from beginning to end that narrates the code the does the analysis.\n",
    "# Make sure to interpret the results you obtain. It’s not enough to just state what a 90% confidence interval is, for example.\n",
    "# Ensure your tables and/or figures are labeled with a figure/table number.\n",
    "# Do you think one of bootstrapping or asymptotics is more appropriate than the other? Why or why not? Explain why you think both methods gave you similar/different results, and whether you think one is more trustworthy than the other."
   ]
  },
  {
   "cell_type": "markdown",
   "id": "410f7a25",
   "metadata": {},
   "source": [
    "(subject to modify) we are testing the solidity/smoothness of two types of leaves, thus we will test the differences between teh two independent means (or using two sample t test)\n",
    "...(bullshit more)\n",
    "...(add more markdown cells to elaborate: first t test for solidity, second for smoothness)"
   ]
  },
  {
   "cell_type": "code",
   "execution_count": null,
   "id": "05a0ff5c",
   "metadata": {
    "vscode": {
     "languageId": "r"
    }
   },
   "outputs": [],
   "source": [
    "solidity_mean_diff  <- leaf %>% \n",
    "    specify(formula = Solidity ~ Class) %>% \n",
    "    calculate(stat = \"diff in means\", order = c(\"10\", \"9\"))\n",
    "\n",
    "solidity_mean_diff\n",
    "\n",
    "smoothness_mean_diff  <- leaf %>% \n",
    "    specify(formula = Smoothness ~ Class) %>% \n",
    "    calculate(stat = \"diff in means\", order = c(\"10\", \"9\"))\n",
    "\n",
    "smoothness_mean_diff"
   ]
  },
  {
   "cell_type": "code",
   "execution_count": null,
   "id": "b0043cdc",
   "metadata": {
    "vscode": {
     "languageId": "r"
    }
   },
   "outputs": [],
   "source": [
    "set.seed(1234)\n",
    "\n",
    "bootstrap_solidity <- \n",
    "     leaf %>% \n",
    "     specify(formula = Solidity ~ Class) %>% \n",
    "     hypothesize(null = \"independence\") %>% \n",
    "     generate(type = \"permute\", reps = 10000) %>% \n",
    "     calculate(stat = \"diff in means\", order = c(\"10\", \"9\"))\n",
    "\n",
    "head(bootstrap_solidity)\n",
    "\n",
    "bootstrap_smoothness <- \n",
    "     leaf %>% \n",
    "     specify(formula = Smoothness ~ Class) %>% \n",
    "     hypothesize(null = \"independence\") %>% \n",
    "     generate(type = \"permute\", reps = 10000) %>% \n",
    "     calculate(stat = \"diff in means\", order = c(\"10\", \"9\"))\n",
    "\n",
    "head(bootstrap_smoothness)"
   ]
  },
  {
   "cell_type": "code",
   "execution_count": null,
   "id": "b55c855d",
   "metadata": {
    "vscode": {
     "languageId": "r"
    }
   },
   "outputs": [],
   "source": [
    "p_value_solidity = bootstrap_solidity %>% get_p_value(obs_stat = solidity_mean_diff, direction = \"right\")\n",
    "p_value_solidity # p value < 0.01\n",
    "\n",
    "p_value_smoothness = bootstrap_solidity %>% get_p_value(obs_stat = smoothness_mean_diff, direction = \"right\")\n",
    "p_value_smoothness # p value < 0.01"
   ]
  },
  {
   "cell_type": "code",
   "execution_count": null,
   "id": "b566321e-fa35-49c0-9828-4313f08d5516",
   "metadata": {},
   "outputs": [],
   "source": [
    "shade_pva_solidity <- \n",
    "bootstrap_solidity %>%\n",
    "visualize() +\n",
    "shade_p_value(solidity_mean_diff, direction = \"right\")\n",
    "shade_pva_solidity\n",
    "\n",
    "shade_pva_smoothness <-\n",
    "bootstrap_smoothness%>%\n",
    "visualize() +\n",
    "shade_p_value(smoothness_mean_diff, direction = \"right\")\n",
    "shade_pva_smoothness"
   ]
  },
  {
   "cell_type": "code",
   "execution_count": null,
   "id": "ae7e4f50-87ac-4ccd-b229-3472c50cf0d2",
   "metadata": {},
   "outputs": [],
   "source": [
    "solidity_ci_0.9 <- bootstrap_solidity%>%\n",
    "get_confidence_interval(level = 0.9)\n",
    "solidity_ci_0.9\n",
    "\n",
    "smoothness_ci_0.9 <- bootstrap_smoothness%>%\n",
    "get_confidence_interval(level = 0.9)\n",
    "smoothness_ci_0.9"
   ]
  },
  {
   "cell_type": "code",
   "execution_count": null,
   "id": "baf2408d-7714-4ad6-8812-7be5402bbe45",
   "metadata": {},
   "outputs": [],
   "source": [
    "shade_ci_solidity <- \n",
    "bootstrap_solidity %>%\n",
    "visualize() +\n",
    "shade_confidence_interval(endpoints = solidity_ci_0.9)\n",
    "shade_ci_solidity\n",
    "\n",
    "shade_ci_smoothness <-\n",
    "bootstrap_smoothness%>%\n",
    "visualize() +\n",
    "shade_confidence_interval(endpoints = smoothness_ci_0.9)\n",
    "shade_ci_smoothness"
   ]
  },
  {
   "cell_type": "markdown",
   "id": "36254048-2c20-42a6-afff-549bab81a724",
   "metadata": {},
   "source": [
    "## 3. **Discussion**"
   ]
  },
  {
   "cell_type": "markdown",
   "id": "c5a637e7-f3d1-4569-9c7a-b440c5324267",
   "metadata": {},
   "source": [
    "\n",
    "# In this section, you’ll interpret the results you obtained in the previous section with respect to the main question/goal of your project.\n",
    "\n",
    "# Summarize what you found, and the implications/impact of your findings.\n",
    "# If relevant, discuss whether your results were what you expected to find.\n",
    "# Discuss future questions/research this study could lead to.\n",
    "\n",
    "**About trustworthy**, since we have resampled for many times which eliminates the variance, the precision of the findings should be higher than directly plotting the observation using the limited data. And we set the significance level $\\alpha$ = 0.05 in case of rejecting the null hypothesis while it is true.\n",
    "\n",
    "**Future question**, as we find the relation of smoothness and solidity between two leaves. Will there be any evidence showing that smoothness can lead to solidity, or vise versa?"
   ]
  },
  {
   "cell_type": "code",
   "execution_count": null,
   "id": "b979a94f",
   "metadata": {
    "vscode": {
     "languageId": "r"
    }
   },
   "outputs": [],
   "source": [
    "t_test_solidity <- tidy(\n",
    "    t.test(\n",
    "        x = leaf %>% filter(Class==10) %>% pull(Solidity),\n",
    "        y = leaf %>% filter(Class==9) %>% pull(Solidity),\n",
    "        alternative = 'greater'\n",
    "    )\n",
    ")\n",
    "t_test_solidity"
   ]
  },
  {
   "cell_type": "code",
   "execution_count": null,
   "id": "618622ef",
   "metadata": {
    "vscode": {
     "languageId": "r"
    }
   },
   "outputs": [],
   "source": [
    "t_test_smoothness <- tidy(\n",
    "    t.test(\n",
    "        x = leaf %>% filter(Class==10) %>% pull(Smoothness),\n",
    "        y = leaf %>% filter(Class==9) %>% pull(Smoothness),\n",
    "        alternative = 'greater'\n",
    "    )\n",
    ")\n",
    "t_test_smoothness"
   ]
  },
  {
   "cell_type": "markdown",
   "id": "a1e15dbc",
   "metadata": {},
   "source": [
    "From our Solidity t test result, we gained a p-value of 0.001049488, which is smaller than our $\\alpha$ value. Therefore, we reject the null hypothesis and conclude that the mean solidity of Tilia tomentosa (class 10) is greater Betula pubescens (class 9).\n",
    "\n",
    "From our Smoothness t test result, we gained a p-value of 3.660258e-05, which is smaller than our $\\alpha$ value. Therefore, we reject the null hypothesis and conclude that the mean smoothness of Tilia tomentosa (class 10) is greater Betula pubescens (class 9)."
   ]
  },
  {
   "cell_type": "markdown",
   "id": "710ca852-bf08-474a-a25c-456866f0c3e9",
   "metadata": {},
   "source": [
    "## 4. **References**"
   ]
  },
  {
   "cell_type": "markdown",
   "id": "d697eb9d-1b43-4f0a-89e6-7f55449ad768",
   "metadata": {},
   "source": [
    "\"Evaluation of Features for Leaf Discrimination”, Pedro F. B. Silva, Andre R.S. Marcal,\n",
    "Rubim M. Almeida da Silva (2013), Springer Lecture Notes in Computer Science, Vol.\n",
    "7950, 197-204.\n",
    "\n",
    "“Development of a System for Automatic Plant Species Recognition”, Pedro Filipe Silva,\n",
    "Disserta ̧c ̃ao de Mestrado (Master’s Thesis), Faculdade de Ciˆencias da Universidade do\n",
    "Porto. Available for download or online reading at http://hdl.handle.net/10216/67734\n"
   ]
  },
  {
   "cell_type": "markdown",
   "id": "7ed15e05",
   "metadata": {},
   "source": []
  }
 ],
 "metadata": {
  "kernelspec": {
   "display_name": "R",
   "language": "R",
   "name": "ir"
  },
  "language_info": {
   "codemirror_mode": "r",
   "file_extension": ".r",
   "mimetype": "text/x-r-source",
   "name": "R",
   "pygments_lexer": "r",
   "version": "4.1.2"
  }
 },
 "nbformat": 4,
 "nbformat_minor": 5
}
